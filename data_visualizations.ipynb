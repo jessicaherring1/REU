{
 "cells": [
  {
   "cell_type": "code",
   "execution_count": 32,
   "metadata": {},
   "outputs": [],
   "source": [
    "import pandas as pd\n",
    "\n",
    "# changes matplotlib to work with pandas dataframes a bit better\n",
    "pd.plotting.register_matplotlib_converters() \n",
    "\n",
    "import matplotlib.pyplot as plt\n",
    "# make matplotlib display graphs inline of the jupyter notebook\n",
    "%matplotlib inline\n",
    "\n",
    "import seaborn as sns\n",
    "\n",
    "import numpy as np\n"
   ]
  },
  {
   "cell_type": "code",
   "execution_count": 33,
   "metadata": {},
   "outputs": [
    {
     "data": {
      "text/html": [
       "<div>\n",
       "<style scoped>\n",
       "    .dataframe tbody tr th:only-of-type {\n",
       "        vertical-align: middle;\n",
       "    }\n",
       "\n",
       "    .dataframe tbody tr th {\n",
       "        vertical-align: top;\n",
       "    }\n",
       "\n",
       "    .dataframe thead th {\n",
       "        text-align: right;\n",
       "    }\n",
       "</style>\n",
       "<table border=\"1\" class=\"dataframe\">\n",
       "  <thead>\n",
       "    <tr style=\"text-align: right;\">\n",
       "      <th></th>\n",
       "      <th>1Title</th>\n",
       "      <th>None</th>\n",
       "      <th>None.1</th>\n",
       "      <th>None.2</th>\n",
       "      <th>None.3</th>\n",
       "    </tr>\n",
       "  </thead>\n",
       "  <tbody>\n",
       "    <tr>\n",
       "      <th>0</th>\n",
       "      <td>1_competency/discomfor_1</td>\n",
       "      <td>7</td>\n",
       "      <td>7</td>\n",
       "      <td>1</td>\n",
       "      <td>4</td>\n",
       "    </tr>\n",
       "    <tr>\n",
       "      <th>1</th>\n",
       "      <td>1_competency/discomfor_2</td>\n",
       "      <td>7</td>\n",
       "      <td>7</td>\n",
       "      <td>3</td>\n",
       "      <td>7</td>\n",
       "    </tr>\n",
       "    <tr>\n",
       "      <th>2</th>\n",
       "      <td>1_competency/discomfor_3</td>\n",
       "      <td>6</td>\n",
       "      <td>7</td>\n",
       "      <td>3</td>\n",
       "      <td>2</td>\n",
       "    </tr>\n",
       "    <tr>\n",
       "      <th>3</th>\n",
       "      <td>1_competency/discomfor_4</td>\n",
       "      <td>7</td>\n",
       "      <td>6</td>\n",
       "      <td>1</td>\n",
       "      <td>5</td>\n",
       "    </tr>\n",
       "    <tr>\n",
       "      <th>4</th>\n",
       "      <td>1_competency/discomfor_5</td>\n",
       "      <td>7</td>\n",
       "      <td>7</td>\n",
       "      <td>1</td>\n",
       "      <td>5</td>\n",
       "    </tr>\n",
       "  </tbody>\n",
       "</table>\n",
       "</div>"
      ],
      "text/plain": [
       "                     1Title  None  None.1  None.2  None.3\n",
       "0  1_competency/discomfor_1     7       7       1       4\n",
       "1  1_competency/discomfor_2     7       7       3       7\n",
       "2  1_competency/discomfor_3     6       7       3       2\n",
       "3  1_competency/discomfor_4     7       6       1       5\n",
       "4  1_competency/discomfor_5     7       7       1       5"
      ]
     },
     "execution_count": 33,
     "metadata": {},
     "output_type": "execute_result"
    }
   ],
   "source": [
    "data = pd.read_csv(\"updated-arm-study-data.csv\")\n",
    "df = pd.DataFrame(data)\n",
    "\n",
    "data.head()"
   ]
  },
  {
   "cell_type": "code",
   "execution_count": 1,
   "metadata": {},
   "outputs": [
    {
     "ename": "NameError",
     "evalue": "name 'data' is not defined",
     "output_type": "error",
     "traceback": [
      "\u001b[0;31m---------------------------------------------------------------------------\u001b[0m",
      "\u001b[0;31mNameError\u001b[0m                                 Traceback (most recent call last)",
      "Cell \u001b[0;32mIn[1], line 6\u001b[0m\n\u001b[1;32m      2\u001b[0m y \u001b[39m=\u001b[39m []\n\u001b[1;32m      4\u001b[0m discomfort \u001b[39m=\u001b[39m [\u001b[39m\"\u001b[39m\u001b[39m7\u001b[39m\u001b[39m\"\u001b[39m, \u001b[39m\"\u001b[39m\u001b[39m8\u001b[39m\u001b[39m\"\u001b[39m, \u001b[39m\"\u001b[39m\u001b[39m9\u001b[39m\u001b[39m\"\u001b[39m, \u001b[39m\"\u001b[39m\u001b[39m10\u001b[39m\u001b[39m\"\u001b[39m, \u001b[39m\"\u001b[39m\u001b[39m11\u001b[39m\u001b[39m\"\u001b[39m, \u001b[39m\"\u001b[39m\u001b[39m12\u001b[39m\u001b[39m\"\u001b[39m]\n\u001b[0;32m----> 6\u001b[0m \u001b[39mfor\u001b[39;00m line \u001b[39min\u001b[39;00m data:\n\u001b[1;32m      7\u001b[0m     \u001b[39mprint\u001b[39m(line)\n\u001b[1;32m      8\u001b[0m     name \u001b[39m=\u001b[39m line\n",
      "\u001b[0;31mNameError\u001b[0m: name 'data' is not defined"
     ]
    }
   ],
   "source": [
    "x = []\n",
    "y = []\n",
    "\n",
    "discomfort = [\"7\", \"8\", \"9\", \"10\", \"11\", \"12\"]\n",
    "\n",
    "for line in data:\n",
    "    print(line)\n",
    "    name = line\n",
    "    if \"comp\" in str(name) and not any([x in str(name) for x in discomfort]):\n",
    "        x.append(name)\n",
    "        y.append(sum(values)/len(values))\n",
    "\n",
    "# Plot the data using bar() method\n",
    "plt.bar(x, y, color='g')\n",
    "plt.title(\"Competence\")\n",
    "plt.xlabel(\"Arm\")\n",
    "plt.ylabel(\"Average Rating\")\n",
    "  \n",
    "# Show the plot\n",
    "plt.show()"
   ]
  },
  {
   "cell_type": "code",
   "execution_count": 47,
   "metadata": {},
   "outputs": [
    {
     "name": "stdout",
     "output_type": "stream",
     "text": [
      "[4.5851851851851855, 4.5851851851851855, 4.5851851851851855]\n"
     ]
    },
    {
     "ename": "IndexError",
     "evalue": "list index out of range",
     "output_type": "error",
     "traceback": [
      "\u001b[0;31m---------------------------------------------------------------------------\u001b[0m",
      "\u001b[0;31mIndexError\u001b[0m                                Traceback (most recent call last)",
      "Cell \u001b[0;32mIn[47], line 20\u001b[0m\n\u001b[1;32m     18\u001b[0m     \u001b[39mif\u001b[39;00m \u001b[39m\"\u001b[39m\u001b[39mcomp\u001b[39m\u001b[39m\"\u001b[39m \u001b[39min\u001b[39;00m \u001b[39mstr\u001b[39m(name) \u001b[39mand\u001b[39;00m \u001b[39mnot\u001b[39;00m \u001b[39many\u001b[39m([x \u001b[39min\u001b[39;00m \u001b[39mstr\u001b[39m(name) \u001b[39mfor\u001b[39;00m x \u001b[39min\u001b[39;00m discomfort]):\n\u001b[1;32m     19\u001b[0m         x\u001b[39m.\u001b[39mappend(name)\n\u001b[0;32m---> 20\u001b[0m         y\u001b[39m.\u001b[39mappend(Y[i])\n\u001b[1;32m     21\u001b[0m \u001b[39m# Plot the data using bar() method\u001b[39;00m\n\u001b[1;32m     22\u001b[0m plt\u001b[39m.\u001b[39mbar(x, y, color\u001b[39m=\u001b[39m\u001b[39m'\u001b[39m\u001b[39mg\u001b[39m\u001b[39m'\u001b[39m)\n",
      "\u001b[0;31mIndexError\u001b[0m: list index out of range"
     ]
    }
   ],
   "source": [
    "num_columns = df.shape[1]\n",
    "\n",
    "X = list(df.iloc[:, 0])\n",
    "Y= []\n",
    "\n",
    "for i in range(2, num_columns):\n",
    "    temp = list(df.iloc[:, i])\n",
    "    temp2 = sum(temp)/len(temp)\n",
    "    Y.append(temp2)\n",
    "\n",
    "#Y = list(df.iloc[:, 2])\n",
    "x = []\n",
    "y = []\n",
    "print(Y)\n",
    "discomfort = [\"7\", \"8\", \"9\", \"10\", \"11\", \"12\"]\n",
    "for i in range(len(X)):\n",
    "    name = X[i]\n",
    "    if \"comp\" in str(name) and not any([x in str(name) for x in discomfort]):\n",
    "        x.append(name)\n",
    "        y.append(Y[i])\n",
    "# Plot the data using bar() method\n",
    "plt.bar(x, y, color='g')\n",
    "plt.title(\"Competence\")\n",
    "plt.xlabel(\"Arm\")\n",
    "plt.ylabel(\"Average\")\n",
    "  \n",
    "# Show the plot\n",
    "plt.show() "
   ]
  }
 ],
 "metadata": {
  "kernelspec": {
   "display_name": "Python 3",
   "language": "python",
   "name": "python3"
  },
  "language_info": {
   "codemirror_mode": {
    "name": "ipython",
    "version": 3
   },
   "file_extension": ".py",
   "mimetype": "text/x-python",
   "name": "python",
   "nbconvert_exporter": "python",
   "pygments_lexer": "ipython3",
   "version": "3.11.4"
  },
  "orig_nbformat": 4,
  "vscode": {
   "interpreter": {
    "hash": "aee8b7b246df8f9039afb4144a1f6fd8d2ca17a180786b69acc140d282b71a49"
   }
  }
 },
 "nbformat": 4,
 "nbformat_minor": 2
}
